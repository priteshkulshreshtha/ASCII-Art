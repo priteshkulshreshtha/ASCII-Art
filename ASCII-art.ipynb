{
 "cells": [
  {
   "cell_type": "code",
   "execution_count": 1,
   "id": "d873e290",
   "metadata": {},
   "outputs": [],
   "source": [
    "import cv2\n",
    "import matplotlib.pyplot as plt\n",
    "from os import system\n",
    "import sys"
   ]
  },
  {
   "cell_type": "code",
   "execution_count": 2,
   "id": "5006047f",
   "metadata": {},
   "outputs": [],
   "source": [
    "# Changes the stdout to terminal\n",
    "jupyter_inline_object = sys.stdout\n",
    "sys.stdout = open(1, 'w')"
   ]
  },
  {
   "cell_type": "code",
   "execution_count": 45,
   "id": "8cfc58d7",
   "metadata": {},
   "outputs": [],
   "source": [
    "# Run this if you want to make jupyter notebook the stdout  \n",
    "# sys.stdout = jupyter_inline_object"
   ]
  },
  {
   "cell_type": "code",
   "execution_count": 7,
   "id": "4af8b953",
   "metadata": {},
   "outputs": [
    {
     "data": {
      "text/plain": [
       "0"
      ]
     },
     "execution_count": 7,
     "metadata": {},
     "output_type": "execute_result"
    }
   ],
   "source": [
    "# increasing the height and width of the terminal\n",
    "cmd = 'mode 500,300'\n",
    "system(cmd)"
   ]
  },
  {
   "cell_type": "code",
   "execution_count": 4,
   "id": "85f17d6a",
   "metadata": {},
   "outputs": [],
   "source": [
    "ASCII = [' ', '`', '.', ',', ':', ';', '+', '*', '?', '%', '$', '#', '@']\n",
    "\n",
    "def resize(img, scale):\n",
    "    scale_percent = scale\n",
    "    width = int(img.shape[1] * scale_percent / 100)\n",
    "    height = int(img.shape[0] * scale_percent / 100)\n",
    "    dim = (width, height)\n",
    "    return cv2.resize(img, dim, interpolation = cv2.INTER_AREA)\n",
    "\n",
    "def pixel_to_ascii(img):\n",
    "    return \"\".join(\"\".join(ASCII[pixels//20] for row in img for pixels in row))\n",
    "\n",
    "def cvt_gray(img):\n",
    "    return cv2.cvtColor(frame, cv2.COLOR_BGR2GRAY)\n",
    "\n",
    "def make_string(art):\n",
    "    art_str = \"\"\n",
    "    for i in range(frame.shape[0]):\n",
    "        art_str += art[0+(i*frame.shape[1]):frame.shape[1]+(i*frame.shape[1])]\n",
    "        art_str = art_str[:-1]\n",
    "        art_str += \"\\n\"\n",
    "    return art_str"
   ]
  },
  {
   "cell_type": "code",
   "execution_count": 17,
   "id": "6b8f6020",
   "metadata": {},
   "outputs": [],
   "source": [
    "for _ in range(5):\n",
    "    \n",
    "    vid = cv2.VideoCapture(0)\n",
    "    vid.set(cv2.CAP_PROP_BUFFERSIZE, 2)\n",
    "\n",
    "    ret, frame = vid.read()\n",
    "    \n",
    "\n",
    "\n",
    "    frame = cvt_gray(frame)\n",
    "    frame = resize(frame, 40)\n",
    "    art = pixel_to_ascii(frame)\n",
    "    art_str = make_string(art)\n",
    "    system('cls')\n",
    "    print(art_str)\n",
    "\n",
    "vid.release()"
   ]
  }
 ],
 "metadata": {
  "kernelspec": {
   "display_name": "Python 3",
   "language": "python",
   "name": "python3"
  },
  "language_info": {
   "codemirror_mode": {
    "name": "ipython",
    "version": 3
   },
   "file_extension": ".py",
   "mimetype": "text/x-python",
   "name": "python",
   "nbconvert_exporter": "python",
   "pygments_lexer": "ipython3",
   "version": "3.8.8"
  }
 },
 "nbformat": 4,
 "nbformat_minor": 5
}
